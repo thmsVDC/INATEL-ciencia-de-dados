{
 "cells": [
  {
   "cell_type": "markdown",
   "metadata": {},
   "source": [
    "# Prova 1 C111 - Thomas Victor"
   ]
  },
  {
   "cell_type": "markdown",
   "metadata": {},
   "source": [
    "### Importando biblioteca numpy e importando dataset"
   ]
  },
  {
   "cell_type": "code",
   "execution_count": 88,
   "metadata": {},
   "outputs": [],
   "source": [
    "import numpy as np\n",
    "\n",
    "dataset = 'social_media.csv'\n",
    "datas = np.loadtxt(dataset, delimiter=';', dtype=str, skiprows=1)"
   ]
  },
  {
   "cell_type": "markdown",
   "metadata": {},
   "source": [
    "### Questão 1: Mostre quantos posts deste dataset são do Brazil;"
   ]
  },
  {
   "cell_type": "code",
   "execution_count": 89,
   "metadata": {},
   "outputs": [
    {
     "name": "stdout",
     "output_type": "stream",
     "text": [
      "Posts do Brasil: 641\n"
     ]
    }
   ],
   "source": [
    "brazil_posts = np.sum(dados[:, 4] == 'Brazil')\n",
    "print(f\"Posts do Brasil: {brazil_posts}\")"
   ]
  },
  {
   "cell_type": "markdown",
   "metadata": {},
   "source": [
    "### Questão 2: Calcule a porcentagem de posts deste dataset que possuem a hashtag \"Education\";"
   ]
  },
  {
   "cell_type": "code",
   "execution_count": 98,
   "metadata": {},
   "outputs": [
    {
     "name": "stdout",
     "output_type": "stream",
     "text": [
      "Porcentagem de posts com a hashtag 'Education': 10.50%\n"
     ]
    }
   ],
   "source": [
    "total_posts = datas.shape[0]\n",
    "education_posts = np.sum(dados[:, 2] == 'Education')\n",
    "percentage_education = (education_posts / total_posts) * 100\n",
    "print(f\"Porcentagem de posts com a hashtag 'Education': {percentage_education:.2f}%\")"
   ]
  },
  {
   "cell_type": "markdown",
   "metadata": {},
   "source": [
    "### Questão 3: Calcule a média de Views e Likes dos posts deste dataset pertencentes ao Instagram. Em seguida, guarde os resultados em um dicionário e mostre seus valores;"
   ]
  },
  {
   "cell_type": "code",
   "execution_count": 99,
   "metadata": {},
   "outputs": [
    {
     "name": "stdout",
     "output_type": "stream",
     "text": [
      "Média de Views dos posts do Instagram: 2404080\n",
      "Média de Likes dos posts do Instagram: 257118\n"
     ]
    }
   ],
   "source": [
    "instagram_posts = datas[datas[:, 1] == 'Instagram']\n",
    "\n",
    "mean_views = np.mean(instagram_posts[:, 5].astype(int))\n",
    "mean_likes = np.mean(instagram_posts[:, 6].astype(int))\n",
    "\n",
    "instagram_stats = {\n",
    "  'mean_views': mean_views,\n",
    "  'mean_likes': mean_likes\n",
    "}\n",
    "\n",
    "print(f\"Média de Views dos posts do Instagram: {instagram_stats['mean_views']:.0f}\")\n",
    "print(f\"Média de Likes dos posts do Instagram: {instagram_stats['mean_likes']:.0f}\")"
   ]
  },
  {
   "cell_type": "markdown",
   "metadata": {},
   "source": [
    "### Questão 4: Para a plataforma com maior quantidade de posts neste dataset, mostre seu nome e seu número de posts;"
   ]
  },
  {
   "cell_type": "code",
   "execution_count": 100,
   "metadata": {},
   "outputs": [
    {
     "name": "stdout",
     "output_type": "stream",
     "text": [
      "Plataforma com maior quantidade de posts: YouTube\n",
      "Número de posts: 1324\n"
     ]
    }
   ],
   "source": [
    "platforms, counts = np.unique(datas[:, 1], return_counts=True)\n",
    "max_index = np.argmax(counts)\n",
    "most_common_platform = platforms[max_index]\n",
    "most_common_platform_count = counts[max_index]\n",
    "\n",
    "print(f\"Plataforma com maior quantidade de posts: {most_common_platform}\")\n",
    "print(f\"Número de posts: {most_common_platform_count}\")"
   ]
  },
  {
   "cell_type": "markdown",
   "metadata": {},
   "source": [
    "### Questão 5: Mostre a origem (região) de onde saiu o post com maior número de likes segundo este dataset."
   ]
  },
  {
   "cell_type": "code",
   "execution_count": 101,
   "metadata": {},
   "outputs": [
    {
     "name": "stdout",
     "output_type": "stream",
     "text": [
      "A origem (região) do post com maior número de likes é: Germany\n"
     ]
    }
   ],
   "source": [
    "max_likes_index = np.argmax(dados[:, 6].astype(int))\n",
    "post_region = dados[max_likes_index, 4]\n",
    "print(f\"A origem (região) do post com maior número de likes é: {post_region}\")"
   ]
  }
 ],
 "metadata": {
  "kernelspec": {
   "display_name": ".venv",
   "language": "python",
   "name": "python3"
  },
  "language_info": {
   "codemirror_mode": {
    "name": "ipython",
    "version": 3
   },
   "file_extension": ".py",
   "mimetype": "text/x-python",
   "name": "python",
   "nbconvert_exporter": "python",
   "pygments_lexer": "ipython3",
   "version": "3.13.0"
  }
 },
 "nbformat": 4,
 "nbformat_minor": 2
}
