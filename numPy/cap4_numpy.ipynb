{
 "cells": [
  {
   "cell_type": "code",
   "execution_count": 1,
   "metadata": {},
   "outputs": [],
   "source": [
    "import numpy as np"
   ]
  },
  {
   "cell_type": "markdown",
   "metadata": {},
   "source": [
    "1. Crie dois NumPy Arrays unidimensionais de tamanho 8: um formado apenas\n",
    "por 1’s e outro formado por números aleatórios entre 0 e 9. Some estes dois\n",
    "NumPy Arrays e guarde o resultado dentro de um terceiro NumPy Array. Por\n",
    "fim, faça o seguinte:\n",
    "\n",
    "  a. Se a soma de todos os elementos do Array resultante for >= 40, remodele este\n",
    "  NumPy Array para se tornar uma matriz com mais linhas do que colunas. Senão,\n",
    "  remodele para que se torne uma matriz com mais colunas do que linhas."
   ]
  },
  {
   "cell_type": "code",
   "execution_count": 52,
   "metadata": {},
   "outputs": [
    {
     "name": "stdout",
     "output_type": "stream",
     "text": [
      "[[9. 4. 9. 4.]\n",
      " [2. 1. 9. 1.]]\n"
     ]
    }
   ],
   "source": [
    "ones = np.ones(8)\n",
    "random_namber = np.random.randint(0,9, 8)\n",
    "sum_arr = ones + random_namber\n",
    "\n",
    "if sum_arr.sum() >= 40:\n",
    "  print(sum_arr.reshape(4,2))\n",
    "else:\n",
    "  print(sum_arr.reshape(2,4))\n"
   ]
  },
  {
   "cell_type": "markdown",
   "metadata": {},
   "source": [
    "2. Crie dois NumPy Arrays unidimensionais: um de números pares de 0 à 51 e\n",
    "outro também de números pares de 100 até 50. Em seguida, os concatene e\n",
    "mostre os resultados ordenados"
   ]
  },
  {
   "cell_type": "code",
   "execution_count": 56,
   "metadata": {},
   "outputs": [
    {
     "name": "stdout",
     "output_type": "stream",
     "text": [
      "[ 0  2  4  6  8 10 12 14 16 18 20 22 24 26 28 30 32 34 36 38 40 42 44 46\n",
      " 48 50 50 52 54 56 58 60 62 64 66 68 70 72 74 76 78 80 82 84 86 88 90 92\n",
      " 94 96 98]\n"
     ]
    }
   ],
   "source": [
    "even_numbers_0_51 = np.arange(0, 51, 2)\n",
    "even_numbers_50_100 = np.arange(50, 100, 2)\n",
    "even_numbers = np.concatenate((even_numbers_0_51, even_numbers_50_100))\n",
    "print(even_numbers)\n"
   ]
  },
  {
   "cell_type": "markdown",
   "metadata": {},
   "source": [
    "3. Mini Campo Minado\n",
    "\n",
    "a) Crie um NumPy Array 2x2 formado apenas por 0’s\n",
    "\n",
    "b) Em seguida, adicione um número 1 em uma posição aleatória desta matriz;\n",
    "\n",
    "c) Faça uma entrada de dados para solicitar o usuário que faça uma jogada\n",
    "(selecione uma posição da matriz)\n",
    "\n",
    "I. Se ele selecionar todas as posições em que o número 1 não se encontra, mostre a\n",
    "  mensagem “Congratulations! You beat the game! :)”\n",
    "  \n",
    "II. Senão, se dentro das 3 primeiras jogadas ele achar o número 1, mostre a mensagem\n",
    "  “Game Over! :( Try Again!”"
   ]
  },
  {
   "cell_type": "code",
   "execution_count": 70,
   "metadata": {},
   "outputs": [
    {
     "name": "stdout",
     "output_type": "stream",
     "text": [
      "[[0. 0.]\n",
      " [0. 1.]]\n",
      "Invalid input. Please enter 0 or 1 for both row and column.\n",
      "Congratulations! You beat the game!\n"
     ]
    }
   ],
   "source": [
    "matriz = np.zeros([2,2])\n",
    "row, col = np.random.randint(0, 2), np.random.randint(0, 2)\n",
    "matriz[row, col] = 1\n",
    "print(matriz)\n",
    "\n",
    "games_played = 0\n",
    "\n",
    "\n",
    "while True:\n",
    "  try:\n",
    "    user_row = int(input('Choose a row (0 or 1): '))\n",
    "    user_column = int(input('Now, choose a column (0 or 1): '))\n",
    "\n",
    "    if matriz[user_row, user_column] == 1:\n",
    "      print('Congratulations! You beat the game!')\n",
    "      break\n",
    "    else:\n",
    "      print('You missed! Try again!')\n",
    "      games_played += 1\n",
    "  \n",
    "    if games_played == 3:\n",
    "      print('You lost the game!')\n",
    "      break\n",
    "  except IndexError:\n",
    "    print(\"Invalid input. Please enter 0 or 1 for both row and column.\")\n",
    "\n",
    "\n",
    "\n",
    "\n"
   ]
  },
  {
   "cell_type": "markdown",
   "metadata": {},
   "source": [
    "4. Crie uma matriz de tamanho qualquer. Extraia seu número de linhas e\n",
    "colunas, multiplique-os, e diga se esta matriz poderia se tornar um vetor\n",
    "unidimensional com número par ou ímpar de elementos"
   ]
  },
  {
   "cell_type": "code",
   "execution_count": null,
   "metadata": {},
   "outputs": [
    {
     "name": "stdout",
     "output_type": "stream",
     "text": [
      "Matriz:\n",
      "[[5 4 0 9 1]\n",
      " [6 4 6 8 0]\n",
      " [6 0 6 8 2]]\n",
      "\n",
      "A matriz tem 3 linhas e 5 colunas, totalizando 15 elementos.\n",
      "Se convertida em um vetor unidimensional, terá um número ímpar de elementos.\n"
     ]
    }
   ],
   "source": [
    "\n",
    "rows = np.random.randint(1, 6)\n",
    "cols = np.random.randint(1, 6)\n",
    "matrix = np.random.randint(0, 10, (rows, cols))\n",
    "\n",
    "\n",
    "num_rows, num_cols = matrix.shape\n",
    "total_elements = num_rows * num_cols\n",
    "\n",
    "if total_elements % 2 == 0:\n",
    "    parity = \"par\"\n",
    "else:\n",
    "    parity = \"ímpar\"\n",
    "\n",
    "print(\"Matriz:\")\n",
    "print(matrix)\n",
    "print(f\"\\nA matriz tem {num_rows} linhas e {num_cols} colunas, totalizando {total_elements} elementos.\")\n",
    "print(f\"Se convertida em um vetor unidimensional, terá um número {parity} de elementos.\")"
   ]
  },
  {
   "cell_type": "markdown",
   "metadata": {},
   "source": [
    "5. Crie uma matriz de tamanho 4x4 formada por números aleatórios inteiros\n",
    "entre 1 e 50 (use seed = 10 antes)\n",
    "a) Mostre o resultado da média de cada linha e cada coluna da matriz\n",
    "gerada\n",
    "b) c) Apresente o maior valor das médias das linhas e também das colunas\n",
    "Mostre a quantidade de aparições de cada um dos números gerados na\n",
    "matriz. Em seguida, mostre apenas os números que aparecem 2 vezes"
   ]
  },
  {
   "cell_type": "code",
   "execution_count": 1,
   "metadata": {},
   "outputs": [
    {
     "name": "stdout",
     "output_type": "stream",
     "text": [
      "Matriz gerada:\n",
      "[[10 37 16  1]\n",
      " [50 29 26 30]\n",
      " [49 30 50  9]\n",
      " [10  1 43 41]]\n",
      "\n",
      "Médias das linhas: [16.   33.75 34.5  23.75]\n",
      "Médias das colunas: [29.75 24.25 33.75 20.25]\n",
      "\n",
      "Maior média das linhas: 34.5\n",
      "Maior média das colunas: 33.75\n",
      "\n",
      "Contagem de números: Counter({np.int64(10): 2, np.int64(1): 2, np.int64(50): 2, np.int64(30): 2, np.int64(37): 1, np.int64(16): 1, np.int64(29): 1, np.int64(26): 1, np.int64(49): 1, np.int64(9): 1, np.int64(43): 1, np.int64(41): 1})\n",
      "Números que aparecem exatamente 2 vezes: [np.int64(10), np.int64(1), np.int64(50), np.int64(30)]\n"
     ]
    }
   ],
   "source": [
    "import numpy as np\n",
    "from collections import Counter\n",
    "\n",
    "np.random.seed(10)\n",
    "matriz = np.random.randint(1, 51, (4, 4))\n",
    "\n",
    "medias_linhas = matriz.mean(axis=1)\n",
    "medias_colunas = matriz.mean(axis=0)\n",
    "\n",
    "maior_media_linhas = medias_linhas.max()\n",
    "maior_media_colunas = medias_colunas.max()\n",
    "\n",
    "contagem_numeros = Counter(matriz.flatten())\n",
    "\n",
    "numeros_2_vezes = [num for num, count in contagem_numeros.items() if count == 2]\n",
    "\n",
    "print(\"Matriz gerada:\")\n",
    "print(matriz)\n",
    "print(\"\\nMédias das linhas:\", medias_linhas)\n",
    "print(\"Médias das colunas:\", medias_colunas)\n",
    "print(\"\\nMaior média das linhas:\", maior_media_linhas)\n",
    "print(\"Maior média das colunas:\", maior_media_colunas)\n",
    "print(\"\\nContagem de números:\", contagem_numeros)\n",
    "print(\"Números que aparecem exatamente 2 vezes:\", numeros_2_vezes)\n"
   ]
  }
 ],
 "metadata": {
  "kernelspec": {
   "display_name": ".venv",
   "language": "python",
   "name": "python3"
  },
  "language_info": {
   "codemirror_mode": {
    "name": "ipython",
    "version": 3
   },
   "file_extension": ".py",
   "mimetype": "text/x-python",
   "name": "python",
   "nbconvert_exporter": "python",
   "pygments_lexer": "ipython3",
   "version": "3.13.0"
  }
 },
 "nbformat": 4,
 "nbformat_minor": 2
}
