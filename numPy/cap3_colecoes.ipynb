{
 "cells": [
  {
   "cell_type": "markdown",
   "metadata": {},
   "source": [
    "Crie uma lista preenchida com os 5 primeiros colocados de um\n",
    "Campeonato de Futebol, na ordem de colocação. Depois mostre:\n",
    "a. Apenas os 3 primeiros colocados;\n",
    "b. Os últimos 2 colocados;\n",
    "c. Uma lista com os times em ordem alfabética;\n",
    "d. Em que posição da tabela se encontra o Barcelona;"
   ]
  },
  {
   "cell_type": "code",
   "execution_count": 1,
   "metadata": {},
   "outputs": [
    {
     "name": "stdout",
     "output_type": "stream",
     "text": [
      "Top 3: ['Real Madrid', 'Manchester City', 'Bayern de Munique']\n",
      "Últimos 2: ['Barcelona', 'Arsenal']\n",
      "Ordem alfabética: ['Arsenal', 'Barcelona', 'Bayern de Munique', 'Manchester City', 'Real Madrid']\n",
      "Barcelona está na 4ª posição\n"
     ]
    }
   ],
   "source": [
    "times = [\"Real Madrid\", \"Manchester City\", \"Bayern de Munique\", \"Barcelona\", \"Arsenal\"]\n",
    "\n",
    "print(\"Top 3:\", times[:3])\n",
    "print(\"Últimos 2:\", times[-2:])\n",
    "print(\"Ordem alfabética:\", sorted(times))\n",
    "posicao_barcelona = times.index(\"Barcelona\") + 1\n",
    "print(f\"Barcelona está na {posicao_barcelona}ª posição\")\n"
   ]
  },
  {
   "cell_type": "markdown",
   "metadata": {},
   "source": [
    "Crie dois conjuntos, um para cada loja. Identifique quais modelos de\n",
    "smartphones cada uma delas vendem. Em seguida, mostre quais\n",
    "modelos no total você terá opção de comprar se visita-las e quais\n",
    "modelos se encontram disponíveis em ambas as lojas;"
   ]
  },
  {
   "cell_type": "code",
   "execution_count": null,
   "metadata": {},
   "outputs": [
    {
     "name": "stdout",
     "output_type": "stream",
     "text": [
      "Modelos disponíveis no total: {'Xiaomi 13', 'OnePlus 11', 'iPhone 14', 'Motorola Edge 40', 'Samsung S22', 'Samsung S23'}\n",
      "Modelos disponíveis em ambas as lojas: {'Xiaomi 13', 'iPhone 14'}\n"
     ]
    }
   ],
   "source": [
    "loja_a = {\"iPhone 14\", \"Samsung S23\", \"Xiaomi 13\", \"Motorola Edge 40\"}\n",
    "loja_b = {\"iPhone 14\", \"Samsung S22\", \"Xiaomi 13\", \"OnePlus 11\"}\n",
    "\n",
    "total_modelos = loja_a | loja_b\n",
    "modelos_comuns = loja_a & loja_b \n",
    "\n",
    "print(\"Modelos disponíveis no total:\", total_modelos)\n",
    "print(\"Modelos disponíveis em ambas as lojas:\", modelos_comuns)"
   ]
  },
  {
   "cell_type": "markdown",
   "metadata": {},
   "source": [
    "Faça um programa que leia o nome e a média de um aluno e guarde-\n",
    "os em um dicionário. Em seguida, a partir da média (para ser\n",
    "aprovado deve ter média >=50), gere a situação final do aluno (‘AP’\n",
    "ou ‘RP’), que também deve ser guardada neste dicionário. No final,\n",
    "mostre todo o conteúdo deste dicionário"
   ]
  },
  {
   "cell_type": "code",
   "execution_count": 4,
   "metadata": {},
   "outputs": [
    {
     "name": "stdout",
     "output_type": "stream",
     "text": [
      "\n",
      "Dados do aluno:\n",
      "Nome: thomas\n",
      "Media: 90.0\n",
      "Situacao: AP\n"
     ]
    }
   ],
   "source": [
    "aluno = {}\n",
    "\n",
    "aluno[\"nome\"] = input(\"Nome do aluno: \")\n",
    "aluno[\"media\"] = float(input(\"Média do aluno: \"))\n",
    "aluno[\"situacao\"] = \"AP\" if aluno[\"media\"] >= 50 else \"RP\"\n",
    "\n",
    "print(\"\\nDados do aluno:\")\n",
    "for chave, valor in aluno.items():\n",
    "    print(f\"{chave.capitalize()}: {valor}\")"
   ]
  },
  {
   "cell_type": "markdown",
   "metadata": {},
   "source": [
    "4. Faça um programa que leia o nome e peso de 3 pessoas e no final\n",
    "mostre o nome da pessoa mais pesada e a mais leve"
   ]
  },
  {
   "cell_type": "code",
   "execution_count": null,
   "metadata": {},
   "outputs": [
    {
     "name": "stdout",
     "output_type": "stream",
     "text": [
      "\n",
      "Pessoa mais pesada: pedro (20.0 kg)\n",
      "Pessoa mais leve: vilas (1.0 kg)\n"
     ]
    }
   ],
   "source": [
    "pessoas = []\n",
    "\n",
    "for i in range(3):\n",
    "    nome = input(f\"Nome da pessoa {i+1}: \")\n",
    "    peso = float(input(f\"Peso de {nome} (kg): \"))\n",
    "    pessoas.append((nome, peso))\n",
    "\n",
    "mais_pesada = max(pessoas, key=lambda p: p[1])\n",
    "mais_leve = min(pessoas, key=lambda p: p[1])\n",
    "\n",
    "print(f\"\\nPessoa mais pesada: {mais_pesada[0]} ({mais_pesada[1]} kg)\")\n",
    "print(f\"Pessoa mais leve: {mais_leve[0]} ({mais_leve[1]} kg)\")"
   ]
  },
  {
   "cell_type": "markdown",
   "metadata": {},
   "source": [
    "5. Desenvolva um programa que leia o nome, idade e sexo de n pessoas.\n",
    "No final, mostre:\n",
    "a. b. A média de idade do grupo;\n",
    "Quantas mulheres têm menos de 20 anos."
   ]
  },
  {
   "cell_type": "code",
   "execution_count": 7,
   "metadata": {},
   "outputs": [
    {
     "name": "stdout",
     "output_type": "stream",
     "text": [
      "Resultados:\n",
      "Média de idade do grupo: 20.00 anos\n",
      "Quantidade de mulheres com menos de 20 anos: 1\n"
     ]
    }
   ],
   "source": [
    "pessoas = []\n",
    "soma_idades = 0\n",
    "mulheres_menos_20 = 0\n",
    "\n",
    "n = int(input(\"Quantas pessoas deseja cadastrar? \"))\n",
    "\n",
    "for i in range(n):\n",
    "    nome = input(f\"Nome da pessoa {i+1}: \")\n",
    "    idade = int(input(\"Idade: \"))\n",
    "    sexo = input(\"Sexo (M/F): \").strip().upper()\n",
    "\n",
    "    soma_idades += idade\n",
    "\n",
    "    if sexo == \"F\" and idade < 20:\n",
    "        mulheres_menos_20 += 1\n",
    "\n",
    "    pessoas.append({\"nome\": nome, \"idade\": idade, \"sexo\": sexo})\n",
    "\n",
    "media_idade = soma_idades / n if n > 0 else 0\n",
    "\n",
    "print(\"Resultados:\")\n",
    "print(f\"Média de idade do grupo: {media_idade:.2f} anos\")\n",
    "print(f\"Quantidade de mulheres com menos de 20 anos: {mulheres_menos_20}\")"
   ]
  }
 ],
 "metadata": {
  "kernelspec": {
   "display_name": "Python 3",
   "language": "python",
   "name": "python3"
  },
  "language_info": {
   "codemirror_mode": {
    "name": "ipython",
    "version": 3
   },
   "file_extension": ".py",
   "mimetype": "text/x-python",
   "name": "python",
   "nbconvert_exporter": "python",
   "pygments_lexer": "ipython3",
   "version": "3.13.0"
  }
 },
 "nbformat": 4,
 "nbformat_minor": 2
}
