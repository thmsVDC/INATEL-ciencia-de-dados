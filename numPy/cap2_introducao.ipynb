{
 "cells": [
  {
   "cell_type": "markdown",
   "metadata": {},
   "source": [
    "1. Crie um programa que leia seu nome completo e mostre:\n",
    "• Seu nome com todas as letras maiúsculas\n",
    "• Seu nome com todas as letras minúsculas\n",
    "• Quantas letras ao todo tem seu nome\n",
    "• E como seria se trocássemos seu último nome para “do Inatel”"
   ]
  },
  {
   "cell_type": "code",
   "execution_count": 1,
   "metadata": {},
   "outputs": [
    {
     "name": "stdout",
     "output_type": "stream",
     "text": [
      "UPPER: THOMAS VICTOR\n",
      "lower: thomas victor\n",
      "Your name has 13 characters\n",
      "thomas do Inatel\n"
     ]
    }
   ],
   "source": [
    "name = input(\"Tell me your name: \")\n",
    "last_name = name.split()[-1]\n",
    "\n",
    "print(f\"UPPER: {name.upper()}\")\n",
    "print(f\"lower: {name.lower()}\")\n",
    "print(f\"Your name has {len(name)} characters\")\n",
    "print(name.replace(last_name, \"do Inatel\"))\n",
    "\n"
   ]
  },
  {
   "cell_type": "markdown",
   "metadata": {},
   "source": [
    "2. Mostre a tabuada de um número que o usuário escolher dentro de um\n",
    "intervalo específico também escolhido por ele"
   ]
  },
  {
   "cell_type": "code",
   "execution_count": null,
   "metadata": {},
   "outputs": [
    {
     "name": "stdout",
     "output_type": "stream",
     "text": [
      "1 x 2 = 2\n",
      "1 x 3 = 3\n",
      "1 x 4 = 4\n",
      "1 x 5 = 5\n"
     ]
    }
   ],
   "source": [
    "try:\n",
    "    number = int(input(\"Tell me a number: \"))\n",
    "    first_number = int(input(\"Tell me a interval. First number: \"))\n",
    "    last_number = int(input(\"Last number: \"))\n",
    "\n",
    "    if first_number > last_number:\n",
    "        first_number, last_number = last_number, first_number\n",
    "\n",
    "    for i in range(first_number, last_number+1):\n",
    "        print(f\"{number} x {i} = {int(number) * i}\")\n",
    "except ValueError:\n",
    "    print(\"You must enter a number\")\n"
   ]
  },
  {
   "cell_type": "markdown",
   "metadata": {},
   "source": [
    "3. Faça um programa que leia o sexo de uma pessoa e diga se ela é\n",
    "homem (caso seja digitado M) ou mulher (caso seja digitado F). Caso\n",
    "seja digitado algo inválido, continue perguntando até que o usuário\n",
    "entre com um sexo válido"
   ]
  },
  {
   "cell_type": "code",
   "execution_count": 30,
   "metadata": {},
   "outputs": [
    {
     "name": "stdout",
     "output_type": "stream",
     "text": [
      "Invalid option\n",
      "Invalid option\n",
      "Invalid option\n",
      "You are a WOMAN\n"
     ]
    }
   ],
   "source": [
    "while True:\n",
    "  gender = input(\"Tell me your gender: (M/F) \").upper()\n",
    "  \n",
    "  match gender:\n",
    "    case \"M\":\n",
    "      print(\"You are a MAN\")\n",
    "      break\n",
    "    case \"F\":\n",
    "      print(\"You are a WOMAN\")\n",
    "      break\n",
    "    case _:\n",
    "      print(\"Invalid option\")\n",
    "      continue"
   ]
  },
  {
   "cell_type": "markdown",
   "metadata": {},
   "source": [
    "4. Desenvolva um script que pergunte a distância de uma viagem em\n",
    "Km. Calcule o preço da passagem, cobrando R$0.50 por Km para viagens\n",
    "até 200Km e R$0.45 para viagens mais longas"
   ]
  },
  {
   "cell_type": "code",
   "execution_count": 51,
   "metadata": {},
   "outputs": [
    {
     "name": "stdout",
     "output_type": "stream",
     "text": [
      "Invalid value\n"
     ]
    }
   ],
   "source": [
    "try:\n",
    "  distance = int(input(\"You ara traveling. Tell me the distance in KM: \"))\n",
    "\n",
    "  if distance <= 200 and distance > 0:\n",
    "    print(f\"You will pay $0.50 per KM, so the total is: R${float(distance) * 0.50}\")\n",
    "  elif distance > 200:\n",
    "    print(f\"You will pay $0.45 per KM, so the total is: R${float(distance) * 0.45}\")\n",
    "  else:\n",
    "    raise ValueError\n",
    "\n",
    "except ValueError:\n",
    "  print(\"Invalid value\")"
   ]
  },
  {
   "cell_type": "markdown",
   "metadata": {},
   "source": [
    "5. Faça um programa que leia um número entre 1000 e 9999 e mostre na\n",
    "tela\n",
    "• qual o número da unidade\n",
    "• número da dezena\n",
    "• número da centena\n",
    "• E número do milhar"
   ]
  },
  {
   "cell_type": "code",
   "execution_count": 1,
   "metadata": {},
   "outputs": [
    {
     "name": "stdout",
     "output_type": "stream",
     "text": [
      "Unit: 4\n",
      "Ten's place: 3\n",
      "Hundred's place: 2\n",
      "Thousand's place: 1\n"
     ]
    }
   ],
   "source": [
    "while True:\n",
    "  try:\n",
    "    number = int(input(\"Tell me a number between 1000 and 9999: \"))\n",
    "    while number < 1000 or number > 9999:\n",
    "      number = int(input(\"Invalid number. Tell me a number between 1000 and 9999: \"))\n",
    "    break\n",
    "  except ValueError:\n",
    "    print(\"Invalid value\")\n",
    "\n",
    "list_of_numbers = list(str(number))\n",
    "print(f\"Unit: {list_of_numbers[3]}\")\n",
    "print(f\"Ten's place: {list_of_numbers[2]}\")\n",
    "print(f\"Hundred's place: {list_of_numbers[1]}\")\n",
    "print(f\"Thousand's place: {list_of_numbers[0]}\")\n",
    "\n"
   ]
  },
  {
   "cell_type": "markdown",
   "metadata": {},
   "source": [
    "6. Peça ao usuário para entrar com um número decimal. Em seguida,\n",
    "aplique e mostre o resultado:\n",
    "• da raiz quadrada deste número\n",
    "• função teto\n",
    "• função chão\n",
    "• sua parte inteira"
   ]
  },
  {
   "cell_type": "code",
   "execution_count": null,
   "metadata": {},
   "outputs": [
    {
     "name": "stdout",
     "output_type": "stream",
     "text": [
      "Square root: 3.22\n",
      "Ceil: 11\n",
      "Floor: 10\n",
      "Integer part: 10\n"
     ]
    }
   ],
   "source": [
    "import math\n",
    "\n",
    "while True:\n",
    "  try:\n",
    "    number = float(input(\"Tell me a decimal number: \"))\n",
    "    if number.is_integer():\n",
    "      raise ValueError\n",
    "    break\n",
    "  except ValueError:\n",
    "    print(\"Invalid value\")\n",
    "  \n",
    "print (f\"Square root: {round(number ** 0.5, 2)}\")\n",
    "print (f\"Ceil: {math.ceil(number)}\")\n",
    "print (f\"Floor: {math.floor(number)}\")\n",
    "print (f\"Integer part: {int(number)}\")\n",
    "\n",
    "\n",
    "\n"
   ]
  }
 ],
 "metadata": {
  "kernelspec": {
   "display_name": "Python 3",
   "language": "python",
   "name": "python3"
  },
  "language_info": {
   "codemirror_mode": {
    "name": "ipython",
    "version": 3
   },
   "file_extension": ".py",
   "mimetype": "text/x-python",
   "name": "python",
   "nbconvert_exporter": "python",
   "pygments_lexer": "ipython3",
   "version": "3.13.0"
  }
 },
 "nbformat": 4,
 "nbformat_minor": 2
}
