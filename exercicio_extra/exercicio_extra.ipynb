{
 "cells": [
  {
   "cell_type": "code",
   "execution_count": 1,
   "metadata": {},
   "outputs": [],
   "source": [
    "import numpy as np\n",
    "\n",
    "dataset = 'paises.csv'\n",
    "datas = np.loadtxt(dataset, delimiter=';', dtype=str, skiprows=1)"
   ]
  },
  {
   "cell_type": "markdown",
   "metadata": {},
   "source": [
    "### Questão 1 Faça um slicing no dataset para mostrar apenas o País (Country), Região (Region), População (Population) e Area (Area (sq. mi.)) dos países contidos nele"
   ]
  },
  {
   "cell_type": "code",
   "execution_count": null,
   "metadata": {},
   "outputs": [
    {
     "name": "stdout",
     "output_type": "stream",
     "text": [
      "[['Afghanistan ' 'ASIA (EX. NEAR EAST)         ' '31056997' '647500']\n",
      " ['Albania ' 'EASTERN EUROPE                     ' '3581655' '28748']\n",
      " ['Algeria ' 'NORTHERN AFRICA                    ' '32930091' '2381740']\n",
      " ['American Samoa ' 'OCEANIA                            ' '57794' '199']\n",
      " ['Andorra ' 'WESTERN EUROPE                     ' '71201' '468']\n",
      " ['Angola ' 'SUB-SAHARAN AFRICA                 ' '12127071' '1246700']\n",
      " ['Anguilla ' 'LATIN AMER. & CARIB    ' '13477' '102']\n",
      " ['Antigua & Barbuda ' 'LATIN AMER. & CARIB    ' '69108' '443']\n",
      " ['Argentina ' 'LATIN AMER. & CARIB    ' '39921833' '2766890']\n",
      " ['Armenia ' 'C.W. OF IND. STATES ' '2976372' '29800']\n",
      " ['Aruba ' 'LATIN AMER. & CARIB    ' '71891' '193']\n",
      " ['Australia ' 'OCEANIA                            ' '20264082' '7686850']\n",
      " ['Austria ' 'WESTERN EUROPE                     ' '8192880' '83870']\n",
      " ['Azerbaijan ' 'C.W. OF IND. STATES ' '7961619' '86600']\n",
      " ['Bahamas, The ' 'LATIN AMER. & CARIB    ' '303770' '13940']\n",
      " ['Bahrain ' 'NEAR EAST                          ' '698585' '665']\n",
      " ['Bangladesh ' 'ASIA (EX. NEAR EAST)         ' '147365352' '144000']\n",
      " ['Barbados ' 'LATIN AMER. & CARIB    ' '279912' '431']\n",
      " ['Belarus ' 'C.W. OF IND. STATES ' '10293011' '207600']\n",
      " ['Belgium ' 'WESTERN EUROPE                     ' '10379067' '30528']\n",
      " ['Belize ' 'LATIN AMER. & CARIB    ' '287730' '22966']\n",
      " ['Benin ' 'SUB-SAHARAN AFRICA                 ' '7862944' '112620']\n",
      " ['Bermuda ' 'NORTHERN AMERICA                   ' '65773' '53']\n",
      " ['Bhutan ' 'ASIA (EX. NEAR EAST)         ' '2279723' '47000']\n",
      " ['Bolivia ' 'LATIN AMER. & CARIB    ' '8989046' '1098580']\n",
      " ['Bosnia & Herzegovina ' 'EASTERN EUROPE                     ' '4498976'\n",
      "  '51129']\n",
      " ['Botswana ' 'SUB-SAHARAN AFRICA                 ' '1639833' '600370']\n",
      " ['Brazil ' 'LATIN AMER. & CARIB    ' '188078227' '8511965']\n",
      " ['British Virgin Is. ' 'LATIN AMER. & CARIB    ' '23098' '153']\n",
      " ['Brunei ' 'ASIA (EX. NEAR EAST)         ' '379444' '5770']\n",
      " ['Bulgaria ' 'EASTERN EUROPE                     ' '7385367' '110910']\n",
      " ['Burkina Faso ' 'SUB-SAHARAN AFRICA                 ' '13902972'\n",
      "  '274200']\n",
      " ['Burma ' 'ASIA (EX. NEAR EAST)         ' '47382633' '678500']\n",
      " ['Burundi ' 'SUB-SAHARAN AFRICA                 ' '8090068' '27830']\n",
      " ['Cambodia ' 'ASIA (EX. NEAR EAST)         ' '13881427' '181040']\n",
      " ['Cameroon ' 'SUB-SAHARAN AFRICA                 ' '17340702' '475440']\n",
      " ['Canada ' 'NORTHERN AMERICA                   ' '33098932' '9984670']\n",
      " ['Cape Verde ' 'SUB-SAHARAN AFRICA                 ' '420979' '4033']\n",
      " ['Cayman Islands ' 'LATIN AMER. & CARIB    ' '45436' '262']\n",
      " ['Central African Rep. ' 'SUB-SAHARAN AFRICA                 ' '4303356'\n",
      "  '622984']\n",
      " ['Chad ' 'SUB-SAHARAN AFRICA                 ' '9944201' '1284000']\n",
      " ['Chile ' 'LATIN AMER. & CARIB    ' '16134219' '756950']\n",
      " ['China ' 'ASIA (EX. NEAR EAST)         ' '1313973713' '9596960']\n",
      " ['Colombia ' 'LATIN AMER. & CARIB    ' '43593035' '1138910']\n",
      " ['Comoros ' 'SUB-SAHARAN AFRICA                 ' '690948' '2170']\n",
      " ['Congo, Dem. Rep. ' 'SUB-SAHARAN AFRICA                 ' '62660551'\n",
      "  '2345410']\n",
      " ['Congo, Repub. of the ' 'SUB-SAHARAN AFRICA                 ' '3702314'\n",
      "  '342000']\n",
      " ['Cook Islands ' 'OCEANIA                            ' '21388' '240']\n",
      " ['Costa Rica ' 'LATIN AMER. & CARIB    ' '4075261' '51100']\n",
      " [\"Cote d'Ivoire \" 'SUB-SAHARAN AFRICA                 ' '17654843'\n",
      "  '322460']\n",
      " ['Croatia ' 'EASTERN EUROPE                     ' '4494749' '56542']\n",
      " ['Cuba ' 'LATIN AMER. & CARIB    ' '11382820' '110860']\n",
      " ['Cyprus ' 'NEAR EAST                          ' '784301' '9250']\n",
      " ['Czech Republic ' 'EASTERN EUROPE                     ' '10235455'\n",
      "  '78866']\n",
      " ['Denmark ' 'WESTERN EUROPE                     ' '5450661' '43094']\n",
      " ['Djibouti ' 'SUB-SAHARAN AFRICA                 ' '486530' '23000']\n",
      " ['Dominica ' 'LATIN AMER. & CARIB    ' '68910' '754']\n",
      " ['Dominican Republic ' 'LATIN AMER. & CARIB    ' '9183984' '48730']\n",
      " ['East Timor ' 'ASIA (EX. NEAR EAST)         ' '1062777' '15007']\n",
      " ['Ecuador ' 'LATIN AMER. & CARIB    ' '13547510' '283560']\n",
      " ['Egypt ' 'NORTHERN AFRICA                    ' '78887007' '1001450']\n",
      " ['El Salvador ' 'LATIN AMER. & CARIB    ' '6822378' '21040']\n",
      " ['Equatorial Guinea ' 'SUB-SAHARAN AFRICA                 ' '540109'\n",
      "  '28051']\n",
      " ['Eritrea ' 'SUB-SAHARAN AFRICA                 ' '4786994' '121320']\n",
      " ['Estonia ' 'BALTICS                            ' '1324333' '45226']\n",
      " ['Ethiopia ' 'SUB-SAHARAN AFRICA                 ' '74777981' '1127127']\n",
      " ['Faroe Islands ' 'WESTERN EUROPE                     ' '47246' '1399']\n",
      " ['Fiji ' 'OCEANIA                            ' '905949' '18270']\n",
      " ['Finland ' 'WESTERN EUROPE                     ' '5231372' '338145']\n",
      " ['France ' 'WESTERN EUROPE                     ' '60876136' '547030']\n",
      " ['French Guiana ' 'LATIN AMER. & CARIB    ' '199509' '91000']\n",
      " ['French Polynesia ' 'OCEANIA                            ' '274578'\n",
      "  '4167']\n",
      " ['Gabon ' 'SUB-SAHARAN AFRICA                 ' '1424906' '267667']\n",
      " ['Gambia, The ' 'SUB-SAHARAN AFRICA                 ' '1641564' '11300']\n",
      " ['Gaza Strip ' 'NEAR EAST                          ' '1428757' '360']\n",
      " ['Georgia ' 'C.W. OF IND. STATES ' '4661473' '69700']\n",
      " ['Germany ' 'WESTERN EUROPE                     ' '82422299' '357021']\n",
      " ['Ghana ' 'SUB-SAHARAN AFRICA                 ' '22409572' '239460']\n",
      " ['Gibraltar ' 'WESTERN EUROPE                     ' '27928' '7']\n",
      " ['Greece ' 'WESTERN EUROPE                     ' '10688058' '131940']\n",
      " ['Greenland ' 'NORTHERN AMERICA                   ' '56361' '2166086']\n",
      " ['Grenada ' 'LATIN AMER. & CARIB    ' '89703' '344']\n",
      " ['Guadeloupe ' 'LATIN AMER. & CARIB    ' '452776' '1780']\n",
      " ['Guam ' 'OCEANIA                            ' '171019' '541']\n",
      " ['Guatemala ' 'LATIN AMER. & CARIB    ' '12293545' '108890']\n",
      " ['Guernsey ' 'WESTERN EUROPE                     ' '65409' '78']\n",
      " ['Guinea ' 'SUB-SAHARAN AFRICA                 ' '9690222' '245857']\n",
      " ['Guinea-Bissau ' 'SUB-SAHARAN AFRICA                 ' '1442029'\n",
      "  '36120']\n",
      " ['Guyana ' 'LATIN AMER. & CARIB    ' '767245' '214970']\n",
      " ['Haiti ' 'LATIN AMER. & CARIB    ' '8308504' '27750']\n",
      " ['Honduras ' 'LATIN AMER. & CARIB    ' '7326496' '112090']\n",
      " ['Hong Kong ' 'ASIA (EX. NEAR EAST)         ' '6940432' '1092']\n",
      " ['Hungary ' 'EASTERN EUROPE                     ' '9981334' '93030']\n",
      " ['Iceland ' 'WESTERN EUROPE                     ' '299388' '103000']\n",
      " ['India ' 'ASIA (EX. NEAR EAST)         ' '1095351995' '3287590']\n",
      " ['Indonesia ' 'ASIA (EX. NEAR EAST)         ' '245452739' '1919440']\n",
      " ['Iran ' 'ASIA (EX. NEAR EAST)         ' '68688433' '1648000']\n",
      " ['Iraq ' 'NEAR EAST                          ' '26783383' '437072']\n",
      " ['Ireland ' 'WESTERN EUROPE                     ' '4062235' '70280']\n",
      " ['Isle of Man ' 'WESTERN EUROPE                     ' '75441' '572']\n",
      " ['Israel ' 'NEAR EAST                          ' '6352117' '20770']\n",
      " ['Italy ' 'WESTERN EUROPE                     ' '58133509' '301230']\n",
      " ['Jamaica ' 'LATIN AMER. & CARIB    ' '2758124' '10991']\n",
      " ['Japan ' 'ASIA (EX. NEAR EAST)         ' '127463611' '377835']\n",
      " ['Jersey ' 'WESTERN EUROPE                     ' '91084' '116']\n",
      " ['Jordan ' 'NEAR EAST                          ' '5906760' '92300']\n",
      " ['Kazakhstan ' 'C.W. OF IND. STATES ' '15233244' '2717300']\n",
      " ['Kenya ' 'SUB-SAHARAN AFRICA                 ' '34707817' '582650']\n",
      " ['Kiribati ' 'OCEANIA                            ' '105432' '811']\n",
      " ['Korea, North ' 'ASIA (EX. NEAR EAST)         ' '23113019' '120540']\n",
      " ['Korea, South ' 'ASIA (EX. NEAR EAST)         ' '48846823' '98480']\n",
      " ['Kuwait ' 'NEAR EAST                          ' '2418393' '17820']\n",
      " ['Kyrgyzstan ' 'C.W. OF IND. STATES ' '5213898' '198500']\n",
      " ['Laos ' 'ASIA (EX. NEAR EAST)         ' '6368481' '236800']\n",
      " ['Latvia ' 'BALTICS                            ' '2274735' '64589']\n",
      " ['Lebanon ' 'NEAR EAST                          ' '3874050' '10400']\n",
      " ['Lesotho ' 'SUB-SAHARAN AFRICA                 ' '2022331' '30355']\n",
      " ['Liberia ' 'SUB-SAHARAN AFRICA                 ' '3042004' '111370']\n",
      " ['Libya ' 'NORTHERN AFRICA                    ' '5900754' '1759540']\n",
      " ['Liechtenstein ' 'WESTERN EUROPE                     ' '33987' '160']\n",
      " ['Lithuania ' 'BALTICS                            ' '3585906' '65200']\n",
      " ['Luxembourg ' 'WESTERN EUROPE                     ' '474413' '2586']\n",
      " ['Macau ' 'ASIA (EX. NEAR EAST)         ' '453125' '28']\n",
      " ['Macedonia ' 'EASTERN EUROPE                     ' '2050554' '25333']\n",
      " ['Madagascar ' 'SUB-SAHARAN AFRICA                 ' '18595469' '587040']\n",
      " ['Malawi ' 'SUB-SAHARAN AFRICA                 ' '13013926' '118480']\n",
      " ['Malaysia ' 'ASIA (EX. NEAR EAST)         ' '24385858' '329750']\n",
      " ['Maldives ' 'ASIA (EX. NEAR EAST)         ' '359008' '300']\n",
      " ['Mali ' 'SUB-SAHARAN AFRICA                 ' '11716829' '1240000']\n",
      " ['Malta ' 'WESTERN EUROPE                     ' '400214' '316']\n",
      " ['Marshall Islands ' 'OCEANIA                            ' '60422'\n",
      "  '11854']\n",
      " ['Martinique ' 'LATIN AMER. & CARIB    ' '436131' '1100']\n",
      " ['Mauritania ' 'SUB-SAHARAN AFRICA                 ' '3177388' '1030700']\n",
      " ['Mauritius ' 'SUB-SAHARAN AFRICA                 ' '1240827' '2040']\n",
      " ['Mayotte ' 'SUB-SAHARAN AFRICA                 ' '201234' '374']\n",
      " ['Mexico ' 'LATIN AMER. & CARIB    ' '107449525' '1972550']\n",
      " ['Micronesia, Fed. St. ' 'OCEANIA                            ' '108004'\n",
      "  '702']\n",
      " ['Moldova ' 'C.W. OF IND. STATES ' '4466706' '33843']\n",
      " ['Monaco ' 'WESTERN EUROPE                     ' '32543' '2']\n",
      " ['Mongolia ' 'ASIA (EX. NEAR EAST)         ' '2832224' '1564116']\n",
      " ['Montserrat ' 'LATIN AMER. & CARIB    ' '9439' '102']\n",
      " ['Morocco ' 'NORTHERN AFRICA                    ' '33241259' '446550']\n",
      " ['Mozambique ' 'SUB-SAHARAN AFRICA                 ' '19686505' '801590']\n",
      " ['Namibia ' 'SUB-SAHARAN AFRICA                 ' '2044147' '825418']\n",
      " ['Nauru ' 'OCEANIA                            ' '13287' '21']\n",
      " ['Nepal ' 'ASIA (EX. NEAR EAST)         ' '28287147' '147181']\n",
      " ['Netherlands ' 'WESTERN EUROPE                     ' '16491461' '41526']\n",
      " ['Netherlands Antilles ' 'LATIN AMER. & CARIB    ' '221736' '960']\n",
      " ['New Caledonia ' 'OCEANIA                            ' '219246' '19060']\n",
      " ['New Zealand ' 'OCEANIA                            ' '4076140' '268680']\n",
      " ['Nicaragua ' 'LATIN AMER. & CARIB    ' '5570129' '129494']\n",
      " ['Niger ' 'SUB-SAHARAN AFRICA                 ' '12525094' '1267000']\n",
      " ['Nigeria ' 'SUB-SAHARAN AFRICA                 ' '131859731' '923768']\n",
      " ['N. Mariana Islands ' 'OCEANIA                            ' '82459'\n",
      "  '477']\n",
      " ['Norway ' 'WESTERN EUROPE                     ' '4610820' '323802']\n",
      " ['Oman ' 'NEAR EAST                          ' '3102229' '212460']\n",
      " ['Pakistan ' 'ASIA (EX. NEAR EAST)         ' '165803560' '803940']\n",
      " ['Palau ' 'OCEANIA                            ' '20579' '458']\n",
      " ['Panama ' 'LATIN AMER. & CARIB    ' '3191319' '78200']\n",
      " ['Papua New Guinea ' 'OCEANIA                            ' '5670544'\n",
      "  '462840']\n",
      " ['Paraguay ' 'LATIN AMER. & CARIB    ' '6506464' '406750']\n",
      " ['Peru ' 'LATIN AMER. & CARIB    ' '28302603' '1285220']\n",
      " ['Philippines ' 'ASIA (EX. NEAR EAST)         ' '89468677' '300000']\n",
      " ['Poland ' 'EASTERN EUROPE                     ' '38536869' '312685']\n",
      " ['Portugal ' 'WESTERN EUROPE                     ' '10605870' '92391']\n",
      " ['Puerto Rico ' 'LATIN AMER. & CARIB    ' '3927188' '13790']\n",
      " ['Qatar ' 'NEAR EAST                          ' '885359' '11437']\n",
      " ['Reunion ' 'SUB-SAHARAN AFRICA                 ' '787584' '2517']\n",
      " ['Romania ' 'EASTERN EUROPE                     ' '22303552' '237500']\n",
      " ['Russia ' 'C.W. OF IND. STATES ' '142893540' '17075200']\n",
      " ['Rwanda ' 'SUB-SAHARAN AFRICA                 ' '8648248' '26338']\n",
      " ['Saint Helena ' 'SUB-SAHARAN AFRICA                 ' '7502' '413']\n",
      " ['Saint Kitts & Nevis ' 'LATIN AMER. & CARIB    ' '39129' '261']\n",
      " ['Saint Lucia ' 'LATIN AMER. & CARIB    ' '168458' '616']\n",
      " ['St Pierre & Miquelon ' 'NORTHERN AMERICA                   ' '7026'\n",
      "  '242']\n",
      " ['Saint Vincent and the Grenadines ' 'LATIN AMER. & CARIB    ' '117848'\n",
      "  '389']\n",
      " ['Samoa ' 'OCEANIA                            ' '176908' '2944']\n",
      " ['San Marino ' 'WESTERN EUROPE                     ' '29251' '61']\n",
      " ['Sao Tome & Principe ' 'SUB-SAHARAN AFRICA                 ' '193413'\n",
      "  '1001']\n",
      " ['Saudi Arabia ' 'NEAR EAST                          ' '27019731'\n",
      "  '1960582']\n",
      " ['Senegal ' 'SUB-SAHARAN AFRICA                 ' '11987121' '196190']\n",
      " ['Serbia ' 'EASTERN EUROPE                     ' '9396411' '88361']\n",
      " ['Seychelles ' 'SUB-SAHARAN AFRICA                 ' '81541' '455']\n",
      " ['Sierra Leone ' 'SUB-SAHARAN AFRICA                 ' '6005250' '71740']\n",
      " ['Singapore ' 'ASIA (EX. NEAR EAST)         ' '4492150' '693']\n",
      " ['Slovakia ' 'EASTERN EUROPE                     ' '5439448' '48845']\n",
      " ['Slovenia ' 'EASTERN EUROPE                     ' '2010347' '20273']\n",
      " ['Solomon Islands ' 'OCEANIA                            ' '552438'\n",
      "  '28450']\n",
      " ['Somalia ' 'SUB-SAHARAN AFRICA                 ' '8863338' '637657']\n",
      " ['South Africa ' 'SUB-SAHARAN AFRICA                 ' '44187637'\n",
      "  '1219912']\n",
      " ['Spain ' 'WESTERN EUROPE                     ' '40397842' '504782']\n",
      " ['Sri Lanka ' 'ASIA (EX. NEAR EAST)         ' '20222240' '65610']\n",
      " ['Sudan ' 'SUB-SAHARAN AFRICA                 ' '41236378' '2505810']\n",
      " ['Suriname ' 'LATIN AMER. & CARIB    ' '439117' '163270']\n",
      " ['Swaziland ' 'SUB-SAHARAN AFRICA                 ' '1136334' '17363']\n",
      " ['Sweden ' 'WESTERN EUROPE                     ' '9016596' '449964']\n",
      " ['Switzerland ' 'WESTERN EUROPE                     ' '7523934' '41290']\n",
      " ['Syria ' 'NEAR EAST                          ' '18881361' '185180']\n",
      " ['Taiwan ' 'ASIA (EX. NEAR EAST)         ' '23036087' '35980']\n",
      " ['Tajikistan ' 'C.W. OF IND. STATES ' '7320815' '143100']\n",
      " ['Tanzania ' 'SUB-SAHARAN AFRICA                 ' '37445392' '945087']\n",
      " ['Thailand ' 'ASIA (EX. NEAR EAST)         ' '64631595' '514000']\n",
      " ['Togo ' 'SUB-SAHARAN AFRICA                 ' '5548702' '56785']\n",
      " ['Tonga ' 'OCEANIA                            ' '114689' '748']\n",
      " ['Trinidad & Tobago ' 'LATIN AMER. & CARIB    ' '1065842' '5128']\n",
      " ['Tunisia ' 'NORTHERN AFRICA                    ' '10175014' '163610']\n",
      " ['Turkey ' 'NEAR EAST                          ' '70413958' '780580']\n",
      " ['Turkmenistan ' 'C.W. OF IND. STATES ' '5042920' '488100']\n",
      " ['Turks & Caicos Is ' 'LATIN AMER. & CARIB    ' '21152' '430']\n",
      " ['Tuvalu ' 'OCEANIA                            ' '11810' '26']\n",
      " ['Uganda ' 'SUB-SAHARAN AFRICA                 ' '28195754' '236040']\n",
      " ['Ukraine ' 'C.W. OF IND. STATES ' '46710816' '603700']\n",
      " ['United Arab Emirates ' 'NEAR EAST                          ' '2602713'\n",
      "  '82880']\n",
      " ['United Kingdom ' 'WESTERN EUROPE                     ' '60609153'\n",
      "  '244820']\n",
      " ['United States ' 'NORTHERN AMERICA                   ' '298444215'\n",
      "  '9631420']\n",
      " ['Uruguay ' 'LATIN AMER. & CARIB    ' '3431932' '176220']\n",
      " ['Uzbekistan ' 'C.W. OF IND. STATES ' '27307134' '447400']\n",
      " ['Vanuatu ' 'OCEANIA                            ' '208869' '12200']\n",
      " ['Venezuela ' 'LATIN AMER. & CARIB    ' '25730435' '912050']\n",
      " ['Vietnam ' 'ASIA (EX. NEAR EAST)         ' '84402966' '329560']\n",
      " ['Virgin Islands ' 'LATIN AMER. & CARIB    ' '108605' '1910']\n",
      " ['Wallis and Futuna ' 'OCEANIA                            ' '16025'\n",
      "  '274']\n",
      " ['West Bank ' 'NEAR EAST                          ' '2460492' '5860']\n",
      " ['Western Sahara ' 'NORTHERN AFRICA                    ' '273008'\n",
      "  '266000']\n",
      " ['Yemen ' 'NEAR EAST                          ' '21456188' '527970']\n",
      " ['Zambia ' 'SUB-SAHARAN AFRICA                 ' '11502010' '752614']\n",
      " ['Zimbabwe ' 'SUB-SAHARAN AFRICA                 ' '12236805' '390580']]\n"
     ]
    }
   ],
   "source": [
    "df_sliced = datas[:, :4]\n",
    "print(df_sliced)"
   ]
  },
  {
   "cell_type": "markdown",
   "metadata": {},
   "source": [
    "### Questão 2 Conte e em seguida mostre quais são as diferentes Regiões do planeta segundo este dataset"
   ]
  },
  {
   "cell_type": "code",
   "execution_count": null,
   "metadata": {},
   "outputs": [
    {
     "name": "stdout",
     "output_type": "stream",
     "text": [
      "Numero de paises: 11\n",
      "ASIA (EX. NEAR EAST): 28\n",
      "BALTICS: 3\n",
      "C.W. OF IND. STATES: 12\n",
      "EASTERN EUROPE: 12\n",
      "LATIN AMER. & CARIB: 45\n",
      "NEAR EAST: 16\n",
      "NORTHERN AFRICA: 6\n",
      "NORTHERN AMERICA: 5\n",
      "OCEANIA: 21\n",
      "SUB-SAHARAN AFRICA: 51\n",
      "WESTERN EUROPE: 28\n"
     ]
    }
   ],
   "source": [
    "regions = datas[:, 1]\n",
    "unique_regions, counts = np.unique(regions, return_counts=True)\n",
    "print(f\"Numero de regiões: {unique_regions.size}\")\n",
    "\n",
    "for region, count in zip(unique_regions, counts):\n",
    "  print(f\"{region.strip()}: {count}\")"
   ]
  },
  {
   "cell_type": "markdown",
   "metadata": {},
   "source": [
    "### Questão 3 Mostre qual a taxa média de alfabetização (Literacy (%)) do planeta segundo este dataset"
   ]
  },
  {
   "cell_type": "code",
   "execution_count": null,
   "metadata": {},
   "outputs": [
    {
     "name": "stdout",
     "output_type": "stream",
     "text": [
      "A taxa média de alfabetização do planeta é: 13.68%\n"
     ]
    }
   ],
   "source": [
    "literacy_rates = datas[:, 11]\n",
    "valid_literacy_rates = [float(rate) for rate in literacy_rates if rate]\n",
    "\n",
    "average_literacy_rate = np.mean(valid_literacy_rates)\n",
    "print(f\"A taxa média de alfabetização do planeta é: {average_literacy_rate:.2f}%\")"
   ]
  },
  {
   "cell_type": "markdown",
   "metadata": {},
   "source": [
    "### Questão 4 Conte quantos países são da América do Norte (NORTHERN AMERICA) segundo este dataset"
   ]
  },
  {
   "cell_type": "code",
   "execution_count": 18,
   "metadata": {},
   "outputs": [
    {
     "name": "stdout",
     "output_type": "stream",
     "text": [
      "Numero de países da América do Norte: 5\n"
     ]
    }
   ],
   "source": [
    "northern_america_countries = np.sum(np.char.find(regions, 'NORTHERN AMERICA') != -1)\n",
    "print(f\"Numero de países da América do Norte: {northern_america_countries}\")"
   ]
  },
  {
   "cell_type": "markdown",
   "metadata": {},
   "source": [
    "### Questão 5 Encontre qual país da América do Sul e Caribe (LATIN AMER. & CARIB) possui a maior renda per capita (GDP ($ per capita))"
   ]
  },
  {
   "cell_type": "code",
   "execution_count": null,
   "metadata": {},
   "outputs": [
    {
     "name": "stdout",
     "output_type": "stream",
     "text": [
      "O país da América do Sul e Caribe com a maior renda per capita é: Guyana\n"
     ]
    }
   ],
   "source": [
    "latin_america_carib = datas[np.char.find(datas[:, 1], 'LATIN AMER. & CARIB') != -1]\n",
    "\n",
    "gdp_per_capita = latin_america_carib[:, 9].astype(float)\n",
    "max_gdp_index = np.argmax(gdp_per_capita)\n",
    "country_with_max_gdp = latin_america_carib[max_gdp_index, 0].strip()\n",
    "\n",
    "print(f\"O país da América do Sul e Caribe com a maior renda per capita é: {country_with_max_gdp}\")"
   ]
  }
 ],
 "metadata": {
  "kernelspec": {
   "display_name": ".venv",
   "language": "python",
   "name": "python3"
  },
  "language_info": {
   "codemirror_mode": {
    "name": "ipython",
    "version": 3
   },
   "file_extension": ".py",
   "mimetype": "text/x-python",
   "name": "python",
   "nbconvert_exporter": "python",
   "pygments_lexer": "ipython3",
   "version": "3.13.0"
  }
 },
 "nbformat": 4,
 "nbformat_minor": 2
}
