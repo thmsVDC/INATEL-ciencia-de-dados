{
 "cells": [
  {
   "cell_type": "code",
   "execution_count": 70,
   "metadata": {},
   "outputs": [],
   "source": [
    "import numpy as np\n",
    "\n",
    "file_path = \"space.csv\"\n",
    "dados = np.genfromtxt(file_path, delimiter=\";\", dtype=str, encoding=\"utf-8\", skip_header=1)\n"
   ]
  },
  {
   "cell_type": "markdown",
   "metadata": {},
   "source": [
    "# 1. Porcentagem de missões que deram certo"
   ]
  },
  {
   "cell_type": "code",
   "execution_count": 65,
   "metadata": {},
   "outputs": [
    {
     "name": "stdout",
     "output_type": "stream",
     "text": [
      "1. Porcentagem de missões bem-sucedidas: 89.71%\n"
     ]
    }
   ],
   "source": [
    "status_missoes = dados[:, -1]\n",
    "total_missoes = len(status_missoes)\n",
    "missoes_sucesso = np.sum(status_missoes == \"Success\")\n",
    "percentual_sucesso = (missoes_sucesso / total_missoes) * 100\n",
    "print(f\"1. Porcentagem de missões bem-sucedidas: {percentual_sucesso:.2f}%\")"
   ]
  },
  {
   "cell_type": "markdown",
   "metadata": {},
   "source": [
    "# 2. Média de gastos de missões com valores disponíveis (> 0)"
   ]
  },
  {
   "cell_type": "code",
   "execution_count": 66,
   "metadata": {},
   "outputs": [
    {
     "name": "stdout",
     "output_type": "stream",
     "text": [
      "2. Média de gastos de missões: $153.79 milhões\n"
     ]
    }
   ],
   "source": [
    "custos = dados[:, -2]\n",
    "custos = np.where(custos == \"\", \"0\", custos)\n",
    "custos = custos.astype(float)\n",
    "custos_validos = custos[custos > 0]\n",
    "media_custos = np.mean(custos_validos)\n",
    "print(f\"2. Média de gastos de missões: ${media_custos:.2f} milhões\")\n",
    "\n"
   ]
  },
  {
   "cell_type": "markdown",
   "metadata": {},
   "source": [
    "# 3. Quantidade de missões realizadas pelos EUA"
   ]
  },
  {
   "cell_type": "code",
   "execution_count": 67,
   "metadata": {},
   "outputs": [
    {
     "name": "stdout",
     "output_type": "stream",
     "text": [
      "3. Número de missões realizadas pelos EUA: 1344\n"
     ]
    }
   ],
   "source": [
    "locais = dados[:, 2]\n",
    "missoes_eua = np.sum(np.char.find(locais, \"USA\") >= 0)\n",
    "print(f\"3. Número de missões realizadas pelos EUA: {missoes_eua}\")\n",
    "\n"
   ]
  },
  {
   "cell_type": "markdown",
   "metadata": {},
   "source": [
    "# 4. Missão mais cara da SpaceX"
   ]
  },
  {
   "cell_type": "code",
   "execution_count": 68,
   "metadata": {},
   "outputs": [
    {
     "name": "stdout",
     "output_type": "stream",
     "text": [
      "['SpaceX' 'CASC' 'SpaceX' ... 'US Navy' 'RVSN USSR' 'RVSN USSR']\n",
      "4. Missão mais cara da SpaceX: Falcon Heavy | STP-2 - $90.0 milhões\n"
     ]
    }
   ],
   "source": [
    "empresas = dados[:, 1]\n",
    "print(empresas)\n",
    "spacex_missoes = dados[empresas == \"SpaceX\"]\n",
    "custos_spacex = spacex_missoes[:, -2].astype(float)\n",
    "indice_max_custo = np.argmax(custos_spacex)\n",
    "missao_mais_cara = spacex_missoes[indice_max_custo, 4] \n",
    "print(f\"4. Missão mais cara da SpaceX: {missao_mais_cara} - ${custos_spacex[indice_max_custo]} milhões\")\n",
    "\n"
   ]
  },
  {
   "cell_type": "markdown",
   "metadata": {},
   "source": [
    "# 5. Empresas e quantidades de missões"
   ]
  },
  {
   "cell_type": "code",
   "execution_count": 57,
   "metadata": {},
   "outputs": [
    {
     "name": "stdout",
     "output_type": "stream",
     "text": [
      "5. Empresas e quantidades de missões:\n",
      "- AEB: 3 missões\n",
      "- AMBA: 8 missões\n",
      "- ASI: 9 missões\n",
      "- Arianespace: 279 missões\n",
      "- Arm??e de l'Air: 4 missões\n",
      "- Blue Origin: 12 missões\n",
      "- Boeing: 136 missões\n",
      "- CASC: 251 missões\n",
      "- CASIC: 5 missões\n",
      "- CECLES: 4 missões\n",
      "- CNES: 8 missões\n",
      "- Company Name: 1 missões\n",
      "- Douglas: 1 missões\n",
      "- EER: 1 missões\n",
      "- ESA: 13 missões\n",
      "- Eurockot: 13 missões\n",
      "- ExPace: 10 missões\n",
      "- Exos: 4 missões\n",
      "- General Dynamics: 251 missões\n",
      "- IAI: 11 missões\n",
      "- ILS: 46 missões\n",
      "- IRGC: 1 missões\n",
      "- ISA: 13 missões\n",
      "- ISAS: 30 missões\n",
      "- ISRO: 76 missões\n",
      "- JAXA: 7 missões\n",
      "- KARI: 3 missões\n",
      "- KCST: 5 missões\n",
      "- Khrunichev: 1 missões\n",
      "- Kosmotras: 22 missões\n",
      "- Land Launch: 7 missões\n",
      "- Landspace: 1 missões\n",
      "- Lockheed: 79 missões\n",
      "- MHI: 84 missões\n",
      "- MITT: 7 missões\n",
      "- Martin Marietta: 114 missões\n",
      "- NASA: 203 missões\n",
      "- Northrop: 83 missões\n",
      "- OKB-586: 2 missões\n",
      "- OneSpace: 1 missões\n",
      "- RAE: 2 missões\n",
      "- RVSN USSR: 1777 missões\n",
      "- Rocket Lab: 13 missões\n",
      "- Roscosmos: 55 missões\n",
      "- SRC: 3 missões\n",
      "- Sandia: 1 missões\n",
      "- Sea Launch: 36 missões\n",
      "- SpaceX: 100 missões\n",
      "- Starsem: 1 missões\n",
      "- ULA: 140 missões\n",
      "- US Air Force: 161 missões\n",
      "- US Navy: 17 missões\n",
      "- UT: 5 missões\n",
      "- VKS RF: 201 missões\n",
      "- Virgin Orbit: 1 missões\n",
      "- Yuzhmash: 2 missões\n",
      "- i-Space: 1 missões\n"
     ]
    }
   ],
   "source": [
    "empresas_unicas, contagens = np.unique(empresas, return_counts=True)\n",
    "print(\"5. Empresas e quantidades de missões:\")\n",
    "for empresa, quantidade in zip(empresas_unicas, contagens):\n",
    "    print(f\"- {empresa}: {quantidade} missões\")\n"
   ]
  }
 ],
 "metadata": {
  "kernelspec": {
   "display_name": ".venv",
   "language": "python",
   "name": "python3"
  },
  "language_info": {
   "codemirror_mode": {
    "name": "ipython",
    "version": 3
   },
   "file_extension": ".py",
   "mimetype": "text/x-python",
   "name": "python",
   "nbconvert_exporter": "python",
   "pygments_lexer": "ipython3",
   "version": "3.13.0"
  }
 },
 "nbformat": 4,
 "nbformat_minor": 2
}
