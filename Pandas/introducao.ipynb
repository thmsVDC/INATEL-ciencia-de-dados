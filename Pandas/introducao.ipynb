{
 "cells": [
  {
   "cell_type": "code",
   "execution_count": 17,
   "metadata": {},
   "outputs": [],
   "source": [
    "import pandas as pd\n",
    "import numpy as np"
   ]
  },
  {
   "cell_type": "markdown",
   "metadata": {},
   "source": [
    "### Pandas Series"
   ]
  },
  {
   "cell_type": "code",
   "execution_count": 18,
   "metadata": {},
   "outputs": [],
   "source": [
    "labels = ['a', 'b', 'c']\n",
    "dados = [10, 20, 30]\n",
    "\n",
    "s1 = pd.Series(index=labels, data=dados)\n",
    "s2 = pd.Series({\n",
    "  'a': 10, \n",
    "  'b': 50, \n",
    "  'c': 80,\n",
    "  'd': 100\n",
    "})"
   ]
  },
  {
   "cell_type": "code",
   "execution_count": 19,
   "metadata": {},
   "outputs": [
    {
     "name": "stdout",
     "output_type": "stream",
     "text": [
      "a    10\n",
      "b    20\n",
      "c    30\n",
      "dtype: int64\n",
      "<class 'pandas.core.series.Series'>\n",
      "20\n"
     ]
    }
   ],
   "source": [
    "print(s1)\n",
    "print(type(s1))\n",
    "print(s1['b'])"
   ]
  },
  {
   "cell_type": "code",
   "execution_count": 20,
   "metadata": {},
   "outputs": [
    {
     "name": "stdout",
     "output_type": "stream",
     "text": [
      "a     10\n",
      "b     50\n",
      "c     80\n",
      "d    100\n",
      "dtype: int64\n",
      "<class 'pandas.core.series.Series'>\n",
      "50\n"
     ]
    }
   ],
   "source": [
    "print(s2)\n",
    "print(type(s2))\n",
    "print(s2['b'])"
   ]
  },
  {
   "cell_type": "code",
   "execution_count": null,
   "metadata": {},
   "outputs": [
    {
     "name": "stdout",
     "output_type": "stream",
     "text": [
      "s1 + s2 =\n",
      "a     20.0\n",
      "b     70.0\n",
      "c    110.0\n",
      "d      NaN\n",
      "dtype: float64\n",
      "\n",
      "a     20.0\n",
      "b     70.0\n",
      "c    110.0\n",
      "d    100.0\n",
      "dtype: float64\n"
     ]
    }
   ],
   "source": [
    "print(f's1 + s2 =\\n{s1+s2}\\n')\n",
    "print(s1.add(s2, fill_value=0))"
   ]
  },
  {
   "cell_type": "code",
   "execution_count": 24,
   "metadata": {},
   "outputs": [
    {
     "name": "stdout",
     "output_type": "stream",
     "text": [
      "a    10\n",
      "c    30\n",
      "dtype: int64\n"
     ]
    }
   ],
   "source": [
    "print(s1[['a','c']])"
   ]
  },
  {
   "cell_type": "markdown",
   "metadata": {},
   "source": [
    "### Pandas Dataframe"
   ]
  },
  {
   "cell_type": "code",
   "execution_count": 26,
   "metadata": {},
   "outputs": [
    {
     "name": "stdout",
     "output_type": "stream",
     "text": [
      "    w   x   y   z\n",
      "a  10  37  16   1\n",
      "b  29  26  30  49\n",
      "c  30   9  10   1\n",
      "d  43  41  37  17\n",
      "e  37  48  12  25\n"
     ]
    }
   ],
   "source": [
    "np.random.seed(10)\n",
    "\n",
    "df = pd.DataFrame(\n",
    "  index=['a','b','c','d','e'],\n",
    "  columns=['w','x','y','z'],\n",
    "  data=np.random.randint(1, 50, [5, 4]))\n",
    "\n",
    "print(df)"
   ]
  },
  {
   "cell_type": "code",
   "execution_count": 27,
   "metadata": {},
   "outputs": [
    {
     "name": "stdout",
     "output_type": "stream",
     "text": [
      "    w   z\n",
      "a  10   1\n",
      "b  29  49\n",
      "c  30   1\n",
      "d  43  17\n",
      "e  37  25\n"
     ]
    }
   ],
   "source": [
    "print(df[['w','z']])"
   ]
  },
  {
   "cell_type": "code",
   "execution_count": 29,
   "metadata": {},
   "outputs": [
    {
     "name": "stdout",
     "output_type": "stream",
     "text": [
      "26\n"
     ]
    }
   ],
   "source": [
    "print(df['x']['b'])"
   ]
  },
  {
   "cell_type": "code",
   "execution_count": 30,
   "metadata": {},
   "outputs": [
    {
     "name": "stdout",
     "output_type": "stream",
     "text": [
      "    w   x   y   z\n",
      "a  10  37  16   1\n",
      "b  29  26  30  49\n"
     ]
    }
   ],
   "source": [
    "print(df.loc[['a','b'], ['w','x','y','z']])"
   ]
  },
  {
   "cell_type": "code",
   "execution_count": 32,
   "metadata": {},
   "outputs": [
    {
     "name": "stdout",
     "output_type": "stream",
     "text": [
      "    w   x   y   z\n",
      "a  10  37  16   1\n",
      "b  29  26  30  49\n"
     ]
    }
   ],
   "source": [
    "print(df.iloc[0:2, :])"
   ]
  }
 ],
 "metadata": {
  "kernelspec": {
   "display_name": ".venv",
   "language": "python",
   "name": "python3"
  },
  "language_info": {
   "codemirror_mode": {
    "name": "ipython",
    "version": 3
   },
   "file_extension": ".py",
   "mimetype": "text/x-python",
   "name": "python",
   "nbconvert_exporter": "python",
   "pygments_lexer": "ipython3",
   "version": "3.13.0"
  }
 },
 "nbformat": 4,
 "nbformat_minor": 2
}
