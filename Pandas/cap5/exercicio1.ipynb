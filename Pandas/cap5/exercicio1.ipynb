{
 "cells": [
  {
   "cell_type": "code",
   "execution_count": 2,
   "metadata": {},
   "outputs": [],
   "source": [
    "import pandas as pd\n",
    "import numpy as np"
   ]
  },
  {
   "cell_type": "markdown",
   "metadata": {},
   "source": [
    "### 1. Crie duas Series com os seguintes valores:"
   ]
  },
  {
   "cell_type": "code",
   "execution_count": 3,
   "metadata": {},
   "outputs": [
    {
     "name": "stdout",
     "output_type": "stream",
     "text": [
      "Java      16.25\n",
      "C         16.04\n",
      "Python     9.85\n",
      "dtype: float64\n",
      "C         16.21\n",
      "Python    12.12\n",
      "Java      11.68\n",
      "dtype: float64\n"
     ]
    }
   ],
   "source": [
    "ano1_labels = ['Java', 'C', 'Python']\n",
    "ano1_datas = [16.25, 16.04, 9.85]\n",
    "\n",
    "ano2_labels = ['C', 'Python', 'Java']\n",
    "ano2_datas = [16.21, 12.12, 11.68]\n",
    "\n",
    "seriesAno1 = pd.Series(index=ano1_labels, data=ano1_datas)\n",
    "seriesAno2 = pd.Series(index=ano2_labels, data=ano2_datas)\n",
    "\n",
    "print(seriesAno1)\n",
    "print(seriesAno2)"
   ]
  },
  {
   "cell_type": "markdown",
   "metadata": {},
   "source": [
    "### 2. Os valores das Series criadas na Questão 1 representam as fatias de mercado (porcentagem) de 3 linguagens de programação populares em dois anos consecutivos. Para cada ano, apresente a porcentagem total que elas juntas representam no mercado;"
   ]
  },
  {
   "cell_type": "code",
   "execution_count": 4,
   "metadata": {},
   "outputs": [
    {
     "name": "stdout",
     "output_type": "stream",
     "text": [
      "Total mercado Ano 1: 42.14%\n",
      "Total mercado Ano 2: 40.01%\n"
     ]
    }
   ],
   "source": [
    "totalAno1 = seriesAno1.sum()\n",
    "totalAno2 = seriesAno2.sum()\n",
    "print(f\"Total mercado Ano 1: {totalAno1}%\")\n",
    "print(f\"Total mercado Ano 2: {totalAno2}%\")"
   ]
  },
  {
   "cell_type": "markdown",
   "metadata": {},
   "source": [
    "### 3. Apresente o crescimento/declínio no mercado de cada linguagem do primeiro ano para o segundo ano;"
   ]
  },
  {
   "cell_type": "code",
   "execution_count": 5,
   "metadata": {},
   "outputs": [
    {
     "name": "stdout",
     "output_type": "stream",
     "text": [
      "Crescimento/Declínio:\n",
      "C         0.17\n",
      "Java     -4.57\n",
      "Python    2.27\n",
      "dtype: float64\n"
     ]
    }
   ],
   "source": [
    "variacao = seriesAno2 - seriesAno1\n",
    "print(\"Crescimento/Declínio:\")\n",
    "print(variacao)"
   ]
  },
  {
   "cell_type": "markdown",
   "metadata": {},
   "source": [
    "### 4. Baseado nos resultados da Questão 3, mostre apenas os dados das linguagens que tiveram crescimento;"
   ]
  },
  {
   "cell_type": "code",
   "execution_count": 6,
   "metadata": {},
   "outputs": [
    {
     "name": "stdout",
     "output_type": "stream",
     "text": [
      "Linguagens com crescimento:\n",
      "C         0.17\n",
      "Python    2.27\n",
      "dtype: float64\n"
     ]
    }
   ],
   "source": [
    "crescimento = variacao[variacao > 0]\n",
    "print(\"Linguagens com crescimento:\")\n",
    "print(crescimento)"
   ]
  },
  {
   "cell_type": "markdown",
   "metadata": {},
   "source": [
    "### 5. Se estas porcentagens de crescimento/declínio se mantivessem iguais para os próximos 2 anos, qual seria a linguagem mais popular? Dica: use o método nlargest(1) no final para retornar rapidamente a label e maior valor de uma Series.\n"
   ]
  },
  {
   "cell_type": "code",
   "execution_count": 7,
   "metadata": {},
   "outputs": [
    {
     "name": "stdout",
     "output_type": "stream",
     "text": [
      "Linguagem mais popular no 4º ano:\n",
      "Python    16.66\n",
      "dtype: float64\n"
     ]
    }
   ],
   "source": [
    "projecaoAno3 = seriesAno2 + variacao\n",
    "projecaoAno4 = projecaoAno3 + variacao\n",
    "mais_popular = projecaoAno4.nlargest(1)\n",
    "print(\"Linguagem mais popular no 4º ano:\")\n",
    "print(mais_popular)"
   ]
  },
  {
   "cell_type": "markdown",
   "metadata": {},
   "source": [
    "### 6. Utilizando do DataFrame exemplo do tópico 5.3 deste material, calcule a média dos elementos da coluna X que são menores que 30;\n"
   ]
  },
  {
   "cell_type": "code",
   "execution_count": 8,
   "metadata": {},
   "outputs": [
    {
     "name": "stdout",
     "output_type": "stream",
     "text": [
      "Média dos valores de X menores que 30: 17.5\n"
     ]
    }
   ],
   "source": [
    "data = {\n",
    "    'X': [10, 25, 35, 40, 50],\n",
    "    'Y': [5, 15, 30, 45, 55],\n",
    "    'Z': [20, 30, 40, 50, 60]\n",
    "}\n",
    "df = pd.DataFrame(data, index=['A', 'B', 'C', 'D', 'E'])\n",
    "\n",
    "# Média dos elementos da coluna X menores que 30\n",
    "media_x_menor_30 = df['X'][df['X'] < 30].mean()\n",
    "print(f\"Média dos valores de X menores que 30: {media_x_menor_30}\")"
   ]
  },
  {
   "cell_type": "markdown",
   "metadata": {},
   "source": [
    "### 7. Utilizando do mesmo DataFrame, apresente a média dos elementos da linha D usando a função loc() como base e a soma dos elementos da linha E usando a função iloc() como base;\n"
   ]
  },
  {
   "cell_type": "code",
   "execution_count": 9,
   "metadata": {},
   "outputs": [
    {
     "name": "stdout",
     "output_type": "stream",
     "text": [
      "Média da linha D: 45.0\n",
      "Soma da linha E: 165\n"
     ]
    }
   ],
   "source": [
    "media_linha_D = df.loc['D'].mean()\n",
    "soma_linha_E = df.iloc[4].sum()\n",
    "print(f\"Média da linha D: {media_linha_D}\")\n",
    "print(f\"Soma da linha E: {soma_linha_E}\")"
   ]
  },
  {
   "cell_type": "markdown",
   "metadata": {},
   "source": [
    "### 8. Faça um Slicing na matriz mostrando apenas as linhas A, C e E juntamente com as colunas X e Y . Em seguida, mostre qual seria a soma dos elementos de cada uma destas linhas e cada uma destas colunas."
   ]
  },
  {
   "cell_type": "code",
   "execution_count": 10,
   "metadata": {},
   "outputs": [
    {
     "name": "stdout",
     "output_type": "stream",
     "text": [
      "Soma das linhas:\n",
      "A     15\n",
      "C     65\n",
      "E    105\n",
      "dtype: int64\n",
      "Soma das colunas:\n",
      "X    95\n",
      "Y    90\n",
      "dtype: int64\n"
     ]
    }
   ],
   "source": [
    "df_slice = df.loc[['A', 'C', 'E'], ['X', 'Y']]\n",
    "soma_linhas = df_slice.sum(axis=1)\n",
    "soma_colunas = df_slice.sum(axis=0)\n",
    "print(\"Soma das linhas:\")\n",
    "print(soma_linhas)\n",
    "print(\"Soma das colunas:\")\n",
    "print(soma_colunas)"
   ]
  }
 ],
 "metadata": {
  "kernelspec": {
   "display_name": ".venv",
   "language": "python",
   "name": "python3"
  },
  "language_info": {
   "codemirror_mode": {
    "name": "ipython",
    "version": 3
   },
   "file_extension": ".py",
   "mimetype": "text/x-python",
   "name": "python",
   "nbconvert_exporter": "python",
   "pygments_lexer": "ipython3",
   "version": "3.13.0"
  }
 },
 "nbformat": 4,
 "nbformat_minor": 2
}
