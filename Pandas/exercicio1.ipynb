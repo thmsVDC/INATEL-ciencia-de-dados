{
 "cells": [
  {
   "cell_type": "code",
   "execution_count": 2,
   "metadata": {},
   "outputs": [],
   "source": [
    "import pandas as pd\n",
    "import numpy as np"
   ]
  },
  {
   "cell_type": "markdown",
   "metadata": {},
   "source": [
    "### 1. Crie duas Series com os seguintes valores:"
   ]
  },
  {
   "cell_type": "code",
   "execution_count": 6,
   "metadata": {},
   "outputs": [
    {
     "name": "stdout",
     "output_type": "stream",
     "text": [
      "Java      16.25\n",
      "C         16.04\n",
      "Python     9.85\n",
      "dtype: float64\n",
      "C         16.21\n",
      "Python    12.12\n",
      "Java      11.68\n",
      "dtype: float64\n"
     ]
    }
   ],
   "source": [
    "ano1_labels = ['Java', 'C', 'Python']\n",
    "ano1_datas = [16.25, 16.04, 9.85]\n",
    "\n",
    "ano2_labels = ['C', 'Python', 'Java']\n",
    "ano2_datas = [16.21, 12.12, 11.68]\n",
    "\n",
    "seriesAno1 = pd.Series(index=ano1_labels, data=ano1_datas)\n",
    "seriesAno2 = pd.Series(index=ano2_labels, data=ano2_datas)\n",
    "\n",
    "print(seriesAno1)\n",
    "print(seriesAno2)"
   ]
  }
 ],
 "metadata": {
  "kernelspec": {
   "display_name": ".venv",
   "language": "python",
   "name": "python3"
  },
  "language_info": {
   "codemirror_mode": {
    "name": "ipython",
    "version": 3
   },
   "file_extension": ".py",
   "mimetype": "text/x-python",
   "name": "python",
   "nbconvert_exporter": "python",
   "pygments_lexer": "ipython3",
   "version": "3.13.0"
  }
 },
 "nbformat": 4,
 "nbformat_minor": 2
}
