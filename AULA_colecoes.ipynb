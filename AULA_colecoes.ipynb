{
 "cells": [
  {
   "cell_type": "markdown",
   "metadata": {},
   "source": [
    "# Tuplas"
   ]
  },
  {
   "cell_type": "code",
   "execution_count": 13,
   "metadata": {},
   "outputs": [
    {
     "name": "stdout",
     "output_type": "stream",
     "text": [
      "('Pedro', 'Vilas', 'Julia', 'de Freitas')\n",
      "Pedro\n",
      "('Pedro', 'Vilas')\n",
      "('Julia', 'de Freitas')\n",
      "('Vilas', 'Julia')\n",
      "de Freitas\n"
     ]
    }
   ],
   "source": [
    "names = ('Pedro', 'Vilas', 'Julia', 'de Freitas')\n",
    "print(names)\n",
    "\n",
    "# SLICING DE DADOS\n",
    "print(names[0])\n",
    "print(names[:2])\n",
    "print(names[2:])\n",
    "print(names[1:3])\n",
    "print(names[-1])"
   ]
  },
  {
   "cell_type": "markdown",
   "metadata": {},
   "source": [
    "# Listas"
   ]
  },
  {
   "cell_type": "code",
   "execution_count": 21,
   "metadata": {},
   "outputs": [
    {
     "name": "stdout",
     "output_type": "stream",
     "text": [
      "['Pedro', 'Vilas', 'ama', 'Julia', 'de Freitas', '❤️']\n",
      "['Pedro', 'Vilas', 'gosta da', 'Julia', 'de Freitas', '❤️']\n",
      "['Pedro', 'Vilas', 'gosta da', 'Julia', '❤️']\n"
     ]
    }
   ],
   "source": [
    "names = ['Pedro', 'Vilas', 'Julia', 'de Freitas']\n",
    "\n",
    "# INSERT\n",
    "names.append('❤️')\n",
    "names.insert(2, 'ama')\n",
    "print(names)\n",
    "\n",
    "# UPDATE\n",
    "names[2] = 'gosta da'\n",
    "print(names)\n",
    "\n",
    "# DELETE\n",
    "names.remove('de Freitas')\n",
    "print(names)"
   ]
  }
 ],
 "metadata": {
  "kernelspec": {
   "display_name": "Python 3",
   "language": "python",
   "name": "python3"
  },
  "language_info": {
   "codemirror_mode": {
    "name": "ipython",
    "version": 3
   },
   "file_extension": ".py",
   "mimetype": "text/x-python",
   "name": "python",
   "nbconvert_exporter": "python",
   "pygments_lexer": "ipython3",
   "version": "3.13.0"
  }
 },
 "nbformat": 4,
 "nbformat_minor": 2
}
