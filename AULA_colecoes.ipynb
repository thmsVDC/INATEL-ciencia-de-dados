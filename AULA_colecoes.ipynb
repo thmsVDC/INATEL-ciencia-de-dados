{
 "cells": [
  {
   "cell_type": "markdown",
   "metadata": {},
   "source": [
    "# Tuplas ( )"
   ]
  },
  {
   "cell_type": "code",
   "execution_count": null,
   "metadata": {},
   "outputs": [],
   "source": [
    "names = ('Pedro', 'Vilas', 'Julia', 'de Freitas')\n",
    "print(names)\n",
    "\n",
    "# SLICING DE DADOS\n",
    "print(names[0])\n",
    "print(names[:2])\n",
    "print(names[2:])\n",
    "print(names[1:3])\n",
    "print(names[-1])"
   ]
  },
  {
   "cell_type": "markdown",
   "metadata": {},
   "source": [
    "# Listas [ ]"
   ]
  },
  {
   "cell_type": "code",
   "execution_count": null,
   "metadata": {},
   "outputs": [],
   "source": [
    "names = ['Pedro', 'Vilas', 'Julia', 'de Freitas']\n",
    "\n",
    "# INSERT\n",
    "names.append('❤️')\n",
    "names.insert(2, 'ama')\n",
    "print(names)\n",
    "\n",
    "# UPDATE\n",
    "names[2] = 'gosta da'\n",
    "print(names)\n",
    "\n",
    "# DELETE\n",
    "names.remove('de Freitas')\n",
    "print(names)\n",
    "\n",
    "if 'Pedro' in names:\n",
    "    print('Pedro is here')"
   ]
  },
  {
   "cell_type": "markdown",
   "metadata": {},
   "source": [
    "# Conjutos { }"
   ]
  },
  {
   "cell_type": "code",
   "execution_count": null,
   "metadata": {},
   "outputs": [],
   "source": [
    "names = {'Pedro', 'Vilas', 'Julia', 'de Freitas', 'Pedro', 'Vilas', 'Julia', 'de Freitas'}\n",
    "print(names)\n",
    "\n",
    "# ADD\n",
    "names.add('❤️')\n",
    "\n",
    "# DELETE\n",
    "names.remove('de Freitas')"
   ]
  },
  {
   "cell_type": "markdown",
   "metadata": {},
   "source": [
    "# Dicionário { }"
   ]
  },
  {
   "cell_type": "code",
   "execution_count": 27,
   "metadata": {},
   "outputs": [
    {
     "name": "stdout",
     "output_type": "stream",
     "text": [
      "{'name': 'Pedro Vilas', 'age': 23, 'city': 'Santa Rita'}\n",
      "Pedro Vilas\n",
      "{'name': 'Pedro Vilas', 'city': 'Santa Rita', 'crush': 'Julia de Freitas'}\n"
     ]
    }
   ],
   "source": [
    "person = {\n",
    "    'name': 'Pedro Vilas',\n",
    "    'age': 23,\n",
    "    'city': 'Santa Rita'\n",
    "}\n",
    "print(person)\n",
    "print(person['name'])\n",
    "\n",
    "# INSERT\n",
    "person['crush'] = 'Julia de Freitas'\n",
    "\n",
    "# DELETE\n",
    "del person['age']\n",
    "\n",
    "print(person)"
   ]
  }
 ],
 "metadata": {
  "kernelspec": {
   "display_name": "Python 3",
   "language": "python",
   "name": "python3"
  },
  "language_info": {
   "codemirror_mode": {
    "name": "ipython",
    "version": 3
   },
   "file_extension": ".py",
   "mimetype": "text/x-python",
   "name": "python",
   "nbconvert_exporter": "python",
   "pygments_lexer": "ipython3",
   "version": "3.13.0"
  }
 },
 "nbformat": 4,
 "nbformat_minor": 2
}
